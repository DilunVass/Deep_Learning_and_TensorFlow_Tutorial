{
 "cells": [
  {
   "cell_type": "markdown",
   "metadata": {},
   "source": [
    "# 03. Convolution Neural Networks and Computer Vision with TensorFlow\n",
    "\n",
    "Going to cover:\n",
    "* Getting a dataset to work\n",
    "* Architecture of convolution neural network\n",
    "* A quick end-to-end example\n",
    "* Steps in modelling for binary image classification with CNNs\n",
    "    * Becoming one with the data\n",
    "    * Preparing data for modelling\n",
    "    * Creating a CNN model\n",
    "    * Fitting a model\n",
    "    * Evaluating a model\n",
    "    * Improving a model\n",
    "    * Making a prdiction with trained model\n",
    "* Steps in modelling for multi-class image clasfication with CNNs\n",
    "* Same as above (With different dataset)"
   ]
  },
  {
   "cell_type": "code",
   "execution_count": null,
   "metadata": {},
   "outputs": [],
   "source": []
  }
 ],
 "metadata": {
  "kernelspec": {
   "display_name": "tf_env",
   "language": "python",
   "name": "python3"
  },
  "language_info": {
   "name": "python",
   "version": "3.10.14"
  }
 },
 "nbformat": 4,
 "nbformat_minor": 2
}

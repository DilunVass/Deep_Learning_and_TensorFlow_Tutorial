{
 "cells": [
  {
   "cell_type": "markdown",
   "metadata": {},
   "source": [
    "# 01. Neural Network Regression with Tensorflow\n",
    "\n",
    "## Sub topics\n",
    "* Architecture of a regression model\n",
    "* Input shape and outupt shape\n",
    "    * `X`: Features/data(inputs)\n",
    "    * `Y`: labels (outputs)\n",
    "\n",
    "* Creating custom data to view and fit\n",
    "* Steps in modeling\n",
    "    * Creating a model\n",
    "    * Compiling a model\n",
    "        * Defining a loss function\n",
    "        * Setting up an optimizer\n",
    "        * Creating eveluation metrics\n",
    "    * Filtting a model (getting it to find pattenns in our data)\n",
    "\n",
    "* Eveluating a model\n",
    "    * Visualizing the model\n",
    "    * Looking at training curves\n",
    "    * Compare predictions to ground truth(using the eveluatin metrics)\n",
    "\n",
    "* Saving a model \n",
    "* Loading a model"
   ]
  },
  {
   "cell_type": "markdown",
   "metadata": {},
   "source": [
    "## Typical architecture of regresion neural network\n",
    "\n",
    "| **Hyperparameter** | **Typical Value**|\n",
    "|--|--|\n",
    "| Input layer shape | Same shape as number of features |\n",
    "| Hidden layer(s) | Problem specific, minimum = 1, maximum = unlimited |\n",
    "| Neurons per hidden layer | Problem specific, generally 10 - 100 |\n",
    "| Output layer shape | Same shape as desired prediction shape |\n",
    "| Hidden activation | Usually [ReLU](https://www.kaggle.com/dansbecker/rectified-linear-units-relu-in-deep-learning) (rectified linear unit) |\n",
    "| Output activation | None, ReLU, logistic/tanh |\n",
    "| Loss function | [MSE](https://en.wikipedia.org/wiki/Mean_squared_error) (mean square error) or [MAE](https://en.wikipedia.org/wiki/Mean_absolute_error) (mean absolute error)/Huber (combination of MAE/MSE) if outliers |\n",
    "| Optimizer | [SGD](https://www.tensorflow.org/api_docs/python/tf/keras/optimizers/SGD) (stochastic gradient descent), [Adam](https://www.tensorflow.org/api_docs/python/tf/keras/optimizers/Adam) |"
   ]
  },
  {
   "cell_type": "code",
   "execution_count": 2,
   "metadata": {},
   "outputs": [
    {
     "name": "stdout",
     "output_type": "stream",
     "text": [
      "2.10.1\n",
      "This notebook was last run on: 2024-10-03 03:02:19.405721\n"
     ]
    }
   ],
   "source": [
    "import tensorflow as tf\n",
    "print(tf.__version__)\n",
    "\n",
    "import datetime\n",
    "print(f\"This notebook was last run on: {datetime.datetime.now()}\")"
   ]
  },
  {
   "cell_type": "markdown",
   "metadata": {},
   "source": [
    "## Creating data to view and fit"
   ]
  },
  {
   "cell_type": "code",
   "execution_count": 3,
   "metadata": {},
   "outputs": [
    {
     "data": {
      "image/png": "[encoded data removed]",
      "text/plain": [
       "<Figure size 640x480 with 1 Axes>"
      ]
     },
     "metadata": {},
     "output_type": "display_data"
    }
   ],
   "source": [
    "import numpy as np\n",
    "import matplotlib.pyplot as plt\n",
    "\n",
    "# Create features\n",
    "x = np.array([1, 2, 3, 4, 5, 6, 7, 8, 9, 10], dtype=float)\n",
    "# Create labels\n",
    "y = np.array([1, 1.5, 2, 2.5, 3, 3.5, 4, 4.5, 5, 5.5], dtype=float)\n",
    "\n",
    "# Visualize the data\n",
    "plt.scatter(x, y);"
   ]
  },
  {
   "cell_type": "markdown",
   "metadata": {},
   "source": [
    "## Regression input shapes and output shapes\n",
    "\n",
    "* The `input shape` is the shape of the data that gose into the model.\n",
    "* The `output shape` is the shape of data come out from the model."
   ]
  },
  {
   "cell_type": "code",
   "execution_count": 4,
   "metadata": {},
   "outputs": [
    {
     "data": {
      "text/plain": [
       "(<tf.Tensor: shape=(3,), dtype=string, numpy=array([b'bedroom', b'bathroom', b'garage'], dtype=object)>,\n",
       " <tf.Tensor: shape=(1,), dtype=int32, numpy=array([900000])>)"
      ]
     },
     "execution_count": 4,
     "metadata": {},
     "output_type": "execute_result"
    }
   ],
   "source": [
    "# Example input and output shape of the regression model\n",
    "house_info = tf.constant([\"bedroom\", \"bathroom\", \"garage\"])\n",
    "house_price = tf.constant([900000])\n",
    "house_info, house_price"
   ]
  },
  {
   "cell_type": "code",
   "execution_count": 5,
   "metadata": {},
   "outputs": [
    {
     "data": {
      "text/plain": [
       "TensorShape([3])"
      ]
     },
     "execution_count": 5,
     "metadata": {},
     "output_type": "execute_result"
    }
   ],
   "source": [
    "house_info.shape"
   ]
  },
  {
   "cell_type": "code",
   "execution_count": 6,
   "metadata": {},
   "outputs": [
    {
     "data": {
      "image/png": "[encoded data removed]",
      "text/plain": [
       "<Figure size 640x480 with 1 Axes>"
      ]
     },
     "metadata": {},
     "output_type": "display_data"
    }
   ],
   "source": [
    "import numpy as np\n",
    "import matplotlib.pyplot as plt\n",
    "\n",
    "# Create features\n",
    "x = tf.constant([-7.0, -4.0, -1.0, 2.0, 5.0, 8.0, 11.0, 14.0], dtype=float)\n",
    "# Create labels\n",
    "y = tf.constant([3.0, 6.0, 9.0, 12.0, 15.0, 18.0, 21.0, 24.0], dtype=float)\n",
    "\n",
    "# Visualize the data\n",
    "plt.scatter(x, y);"
   ]
  },
  {
   "cell_type": "code",
   "execution_count": 7,
   "metadata": {},
   "outputs": [
    {
     "data": {
      "text/plain": [
       "(TensorShape([]), TensorShape([]))"
      ]
     },
     "execution_count": 7,
     "metadata": {},
     "output_type": "execute_result"
    }
   ],
   "source": [
    "# Take a single example of x\n",
    "input_shape = x[0].shape\n",
    "\n",
    "# Take a single example of y\n",
    "output_shape = y[0].shape\n",
    "\n",
    "input_shape, output_shape # These are both scalars (no shape)"
   ]
  },
  {
   "cell_type": "code",
   "execution_count": 8,
   "metadata": {},
   "outputs": [
    {
     "data": {
      "text/plain": [
       "(<tf.Tensor: shape=(), dtype=float32, numpy=-7.0>,\n",
       " <tf.Tensor: shape=(), dtype=float32, numpy=3.0>)"
      ]
     },
     "execution_count": 8,
     "metadata": {},
     "output_type": "execute_result"
    }
   ],
   "source": [
    "# Single examples invidually\n",
    "x[0], y[0]"
   ]
  },
  {
   "cell_type": "markdown",
   "metadata": {},
   "source": [
    "## Steps in modelling with TensorFlow\n",
    "\n",
    "In TensorFlow, there are typically 3 fundamental steps to creating and training a model\n",
    "1. `Creating a model` - piece together the layers of neural network.\n",
    "2. `Compilling a model` - defining how a models perfomaces should be measured.\n",
    "3. `Fitting a model` - letting the model try to find patterns in the data."
   ]
  },
  {
   "cell_type": "code",
   "execution_count": 9,
   "metadata": {},
   "outputs": [
    {
     "name": "stdout",
     "output_type": "stream",
     "text": [
      "Epoch 1/5\n",
      "1/1 [==============================] - 2s 2s/step - loss: 13.0973 - mae: 13.0973\n",
      "Epoch 2/5\n",
      "1/1 [==============================] - 0s 6ms/step - loss: 12.9648 - mae: 12.9648\n",
      "Epoch 3/5\n",
      "1/1 [==============================] - 0s 7ms/step - loss: 12.8323 - mae: 12.8323\n",
      "Epoch 4/5\n",
      "1/1 [==============================] - 0s 7ms/step - loss: 12.6998 - mae: 12.6998\n",
      "Epoch 5/5\n",
      "1/1 [==============================] - 0s 6ms/step - loss: 12.5673 - mae: 12.5673\n"
     ]
    },
    {
     "data": {
      "text/plain": [
       "<keras.callbacks.History at 0x210d6713fd0>"
      ]
     },
     "execution_count": 9,
     "metadata": {},
     "output_type": "execute_result"
    }
   ],
   "source": [
    "# Set random seed\n",
    "tf.random.set_seed(42)\n",
    "\n",
    "# Create a model using the Sequential API\n",
    "model = tf.keras.Sequential([\n",
    "    tf.keras.layers.Dense(1)\n",
    "])\n",
    "\n",
    "# Compile the model\n",
    "model.compile(loss=tf.keras.losses.mae, # mea is short of mean absolute error\n",
    "              optimizer = tf.keras.optimizers.SGD(), # SGD is short of stochastic gradient descent\n",
    "              metrics=[\"mae\"])\n",
    "\n",
    "# Fit the model\n",
    "model.fit(tf.expand_dims(x, axis=1), y, epochs=5)"
   ]
  },
  {
   "cell_type": "code",
   "execution_count": 10,
   "metadata": {},
   "outputs": [
    {
     "data": {
      "text/plain": [
       "(<tf.Tensor: shape=(8,), dtype=float32, numpy=array([-7., -4., -1.,  2.,  5.,  8., 11., 14.], dtype=float32)>,\n",
       " <tf.Tensor: shape=(8,), dtype=float32, numpy=array([ 3.,  6.,  9., 12., 15., 18., 21., 24.], dtype=float32)>)"
      ]
     },
     "execution_count": 10,
     "metadata": {},
     "output_type": "execute_result"
    }
   ],
   "source": [
    "# Check out x, y\n",
    "x, y"
   ]
  },
  {
   "cell_type": "code",
   "execution_count": 11,
   "metadata": {},
   "outputs": [
    {
     "name": "stdout",
     "output_type": "stream",
     "text": [
      "1/1 [==============================] - 0s 90ms/step\n"
     ]
    },
    {
     "data": {
      "text/plain": [
       "array([[4.9808693]], dtype=float32)"
      ]
     },
     "execution_count": 11,
     "metadata": {},
     "output_type": "execute_result"
    }
   ],
   "source": [
    "# Make a prediction with the model\n",
    "import numpy as np\n",
    "\n",
    "# Convert the list to a NumPy array\n",
    "input_data = np.array([17])\n",
    "\n",
    "# Make a prediction with the model\n",
    "model.predict(input_data)"
   ]
  },
  {
   "cell_type": "markdown",
   "metadata": {},
   "source": [
    "## Improving a model\n",
    "\n",
    "To improve model,\n",
    "1. `Creating a model` - add more layers, increase the number of hidden units (also called neurons) withing each layer, change the activation functions of each layer.\n",
    "2. `Compilling a model` - Choose opimization function or perhaps change the `learning rate` of the optimization function.\n",
    "3. `Fitting a model` - Fit a model with more `epochs`."
   ]
  },
  {
   "cell_type": "code",
   "execution_count": 12,
   "metadata": {},
   "outputs": [
    {
     "name": "stdout",
     "output_type": "stream",
     "text": [
      "Epoch 1/100\n",
      "1/1 [==============================] - 0s 439ms/step - loss: 19.9398 - mae: 19.9398\n",
      "Epoch 2/100\n",
      "1/1 [==============================] - 0s 4ms/step - loss: 19.6585 - mae: 19.6585\n",
      "Epoch 3/100\n",
      "1/1 [==============================] - 0s 6ms/step - loss: 19.3773 - mae: 19.3773\n",
      "Epoch 4/100\n",
      "1/1 [==============================] - 0s 6ms/step - loss: 19.0960 - mae: 19.0960\n",
      "Epoch 5/100\n",
      "1/1 [==============================] - 0s 5ms/step - loss: 18.8148 - mae: 18.8148\n",
      "Epoch 6/100\n",
      "1/1 [==============================] - 0s 7ms/step - loss: 18.5336 - mae: 18.5336\n",
      "Epoch 7/100\n",
      "1/1 [==============================] - 0s 6ms/step - loss: 18.2523 - mae: 18.2523\n",
      "Epoch 8/100\n",
      "1/1 [==============================] - 0s 5ms/step - loss: 17.9710 - mae: 17.9710\n",
      "Epoch 9/100\n",
      "1/1 [==============================] - 0s 7ms/step - loss: 17.6898 - mae: 17.6898\n",
      "Epoch 10/100\n",
      "1/1 [==============================] - 0s 6ms/step - loss: 17.4085 - mae: 17.4085\n",
      "Epoch 11/100\n",
      "1/1 [==============================] - 0s 7ms/step - loss: 17.1273 - mae: 17.1273\n",
      "Epoch 12/100\n",
      "1/1 [==============================] - 0s 6ms/step - loss: 16.8460 - mae: 16.8460\n",
      "Epoch 13/100\n",
      "1/1 [==============================] - 0s 6ms/step - loss: 16.5648 - mae: 16.5648\n",
      "Epoch 14/100\n",
      "1/1 [==============================] - 0s 6ms/step - loss: 16.2835 - mae: 16.2835\n",
      "Epoch 15/100\n",
      "1/1 [==============================] - 0s 5ms/step - loss: 16.0023 - mae: 16.0023\n",
      "Epoch 16/100\n",
      "1/1 [==============================] - 0s 5ms/step - loss: 15.7210 - mae: 15.7210\n",
      "Epoch 17/100\n",
      "1/1 [==============================] - 0s 8ms/step - loss: 15.4398 - mae: 15.4398\n",
      "Epoch 18/100\n",
      "1/1 [==============================] - 0s 5ms/step - loss: 15.1585 - mae: 15.1585\n",
      "Epoch 19/100\n",
      "1/1 [==============================] - 0s 6ms/step - loss: 14.8773 - mae: 14.8773\n",
      "Epoch 20/100\n",
      "1/1 [==============================] - 0s 5ms/step - loss: 14.6594 - mae: 14.6594\n",
      "Epoch 21/100\n",
      "1/1 [==============================] - 0s 7ms/step - loss: 14.5269 - mae: 14.5269\n",
      "Epoch 22/100\n",
      "1/1 [==============================] - 0s 6ms/step - loss: 14.3944 - mae: 14.3944\n",
      "Epoch 23/100\n",
      "1/1 [==============================] - 0s 5ms/step - loss: 14.2619 - mae: 14.2619\n",
      "Epoch 24/100\n",
      "1/1 [==============================] - 0s 7ms/step - loss: 14.1294 - mae: 14.1294\n",
      "Epoch 25/100\n",
      "1/1 [==============================] - 0s 6ms/step - loss: 13.9969 - mae: 13.9969\n",
      "Epoch 26/100\n",
      "1/1 [==============================] - 0s 4ms/step - loss: 13.8644 - mae: 13.8644\n",
      "Epoch 27/100\n",
      "1/1 [==============================] - 0s 6ms/step - loss: 13.7319 - mae: 13.7319\n",
      "Epoch 28/100\n",
      "1/1 [==============================] - 0s 7ms/step - loss: 13.5994 - mae: 13.5994\n",
      "Epoch 29/100\n",
      "1/1 [==============================] - 0s 6ms/step - loss: 13.4669 - mae: 13.4669\n",
      "Epoch 30/100\n",
      "1/1 [==============================] - 0s 7ms/step - loss: 13.3344 - mae: 13.3344\n",
      "Epoch 31/100\n",
      "1/1 [==============================] - 0s 6ms/step - loss: 13.2019 - mae: 13.2019\n",
      "Epoch 32/100\n",
      "1/1 [==============================] - 0s 6ms/step - loss: 13.0694 - mae: 13.0694\n",
      "Epoch 33/100\n",
      "1/1 [==============================] - 0s 5ms/step - loss: 12.9369 - mae: 12.9369\n",
      "Epoch 34/100\n",
      "1/1 [==============================] - 0s 5ms/step - loss: 12.8044 - mae: 12.8044\n",
      "Epoch 35/100\n",
      "1/1 [==============================] - 0s 6ms/step - loss: 12.6719 - mae: 12.6719\n",
      "Epoch 36/100\n",
      "1/1 [==============================] - 0s 6ms/step - loss: 12.5394 - mae: 12.5394\n",
      "Epoch 37/100\n",
      "1/1 [==============================] - 0s 6ms/step - loss: 12.4069 - mae: 12.4069\n",
      "Epoch 38/100\n",
      "1/1 [==============================] - 0s 6ms/step - loss: 12.2744 - mae: 12.2744\n",
      "Epoch 39/100\n",
      "1/1 [==============================] - 0s 5ms/step - loss: 12.1419 - mae: 12.1419\n",
      "Epoch 40/100\n",
      "1/1 [==============================] - 0s 6ms/step - loss: 12.0094 - mae: 12.0094\n",
      "Epoch 41/100\n",
      "1/1 [==============================] - 0s 6ms/step - loss: 11.8769 - mae: 11.8769\n",
      "Epoch 42/100\n",
      "1/1 [==============================] - 0s 5ms/step - loss: 11.7444 - mae: 11.7444\n",
      "Epoch 43/100\n",
      "1/1 [==============================] - 0s 5ms/step - loss: 11.6119 - mae: 11.6119\n",
      "Epoch 44/100\n",
      "1/1 [==============================] - 0s 6ms/step - loss: 11.4794 - mae: 11.4794\n",
      "Epoch 45/100\n",
      "1/1 [==============================] - 0s 5ms/step - loss: 11.3469 - mae: 11.3469\n",
      "Epoch 46/100\n",
      "1/1 [==============================] - 0s 5ms/step - loss: 11.2144 - mae: 11.2144\n",
      "Epoch 47/100\n",
      "1/1 [==============================] - 0s 5ms/step - loss: 11.0819 - mae: 11.0819\n",
      "Epoch 48/100\n",
      "1/1 [==============================] - 0s 5ms/step - loss: 10.9494 - mae: 10.9494\n",
      "Epoch 49/100\n",
      "1/1 [==============================] - 0s 6ms/step - loss: 10.8169 - mae: 10.8169\n",
      "Epoch 50/100\n",
      "1/1 [==============================] - 0s 5ms/step - loss: 10.6844 - mae: 10.6844\n",
      "Epoch 51/100\n",
      "1/1 [==============================] - 0s 6ms/step - loss: 10.5519 - mae: 10.5519\n",
      "Epoch 52/100\n",
      "1/1 [==============================] - 0s 4ms/step - loss: 10.4194 - mae: 10.4194\n",
      "Epoch 53/100\n",
      "1/1 [==============================] - 0s 5ms/step - loss: 10.2869 - mae: 10.2869\n",
      "Epoch 54/100\n",
      "1/1 [==============================] - 0s 5ms/step - loss: 10.1544 - mae: 10.1544\n",
      "Epoch 55/100\n",
      "1/1 [==============================] - 0s 6ms/step - loss: 10.0219 - mae: 10.0219\n",
      "Epoch 56/100\n",
      "1/1 [==============================] - 0s 5ms/step - loss: 9.8894 - mae: 9.8894\n",
      "Epoch 57/100\n",
      "1/1 [==============================] - 0s 6ms/step - loss: 9.7569 - mae: 9.7569\n",
      "Epoch 58/100\n",
      "1/1 [==============================] - 0s 4ms/step - loss: 9.6244 - mae: 9.6244\n",
      "Epoch 59/100\n",
      "1/1 [==============================] - 0s 6ms/step - loss: 9.4919 - mae: 9.4919\n",
      "Epoch 60/100\n",
      "1/1 [==============================] - 0s 5ms/step - loss: 9.3594 - mae: 9.3594\n",
      "Epoch 61/100\n",
      "1/1 [==============================] - 0s 6ms/step - loss: 9.2269 - mae: 9.2269\n",
      "Epoch 62/100\n",
      "1/1 [==============================] - 0s 5ms/step - loss: 9.0944 - mae: 9.0944\n",
      "Epoch 63/100\n",
      "1/1 [==============================] - 0s 5ms/step - loss: 8.9619 - mae: 8.9619\n",
      "Epoch 64/100\n",
      "1/1 [==============================] - 0s 5ms/step - loss: 8.8294 - mae: 8.8294\n",
      "Epoch 65/100\n",
      "1/1 [==============================] - 0s 5ms/step - loss: 8.6969 - mae: 8.6969\n",
      "Epoch 66/100\n",
      "1/1 [==============================] - 0s 5ms/step - loss: 8.5644 - mae: 8.5644\n",
      "Epoch 67/100\n",
      "1/1 [==============================] - 0s 4ms/step - loss: 8.4319 - mae: 8.4319\n",
      "Epoch 68/100\n",
      "1/1 [==============================] - 0s 5ms/step - loss: 8.2994 - mae: 8.2994\n",
      "Epoch 69/100\n",
      "1/1 [==============================] - 0s 5ms/step - loss: 8.1669 - mae: 8.1669\n",
      "Epoch 70/100\n",
      "1/1 [==============================] - 0s 6ms/step - loss: 8.0344 - mae: 8.0344\n",
      "Epoch 71/100\n",
      "1/1 [==============================] - 0s 6ms/step - loss: 7.9019 - mae: 7.9019\n",
      "Epoch 72/100\n",
      "1/1 [==============================] - 0s 6ms/step - loss: 7.7694 - mae: 7.7694\n",
      "Epoch 73/100\n",
      "1/1 [==============================] - 0s 6ms/step - loss: 7.6369 - mae: 7.6369\n",
      "Epoch 74/100\n",
      "1/1 [==============================] - 0s 5ms/step - loss: 7.5044 - mae: 7.5044\n",
      "Epoch 75/100\n",
      "1/1 [==============================] - 0s 5ms/step - loss: 7.3719 - mae: 7.3719\n",
      "Epoch 76/100\n",
      "1/1 [==============================] - 0s 6ms/step - loss: 7.2394 - mae: 7.2394\n",
      "Epoch 77/100\n",
      "1/1 [==============================] - 0s 5ms/step - loss: 7.1069 - mae: 7.1069\n",
      "Epoch 78/100\n",
      "1/1 [==============================] - 0s 6ms/step - loss: 6.9744 - mae: 6.9744\n",
      "Epoch 79/100\n",
      "1/1 [==============================] - 0s 5ms/step - loss: 6.9506 - mae: 6.9506\n",
      "Epoch 80/100\n",
      "1/1 [==============================] - 0s 6ms/step - loss: 6.9450 - mae: 6.9450\n",
      "Epoch 81/100\n",
      "1/1 [==============================] - 0s 5ms/step - loss: 6.9394 - mae: 6.9394\n",
      "Epoch 82/100\n",
      "1/1 [==============================] - 0s 7ms/step - loss: 6.9338 - mae: 6.9338\n",
      "Epoch 83/100\n",
      "1/1 [==============================] - 0s 6ms/step - loss: 6.9281 - mae: 6.9281\n",
      "Epoch 84/100\n",
      "1/1 [==============================] - 0s 5ms/step - loss: 6.9225 - mae: 6.9225\n",
      "Epoch 85/100\n",
      "1/1 [==============================] - 0s 5ms/step - loss: 6.9169 - mae: 6.9169\n",
      "Epoch 86/100\n",
      "1/1 [==============================] - 0s 4ms/step - loss: 6.9113 - mae: 6.9113\n",
      "Epoch 87/100\n",
      "1/1 [==============================] - 0s 7ms/step - loss: 6.9056 - mae: 6.9056\n",
      "Epoch 88/100\n",
      "1/1 [==============================] - 0s 4ms/step - loss: 6.9000 - mae: 6.9000\n",
      "Epoch 89/100\n",
      "1/1 [==============================] - 0s 7ms/step - loss: 6.8944 - mae: 6.8944\n",
      "Epoch 90/100\n",
      "1/1 [==============================] - 0s 5ms/step - loss: 6.8888 - mae: 6.8888\n",
      "Epoch 91/100\n",
      "1/1 [==============================] - 0s 6ms/step - loss: 6.8831 - mae: 6.8831\n",
      "Epoch 92/100\n",
      "1/1 [==============================] - 0s 5ms/step - loss: 6.8775 - mae: 6.8775\n",
      "Epoch 93/100\n",
      "1/1 [==============================] - 0s 5ms/step - loss: 6.8719 - mae: 6.8719\n",
      "Epoch 94/100\n",
      "1/1 [==============================] - 0s 6ms/step - loss: 6.8663 - mae: 6.8663\n",
      "Epoch 95/100\n",
      "1/1 [==============================] - 0s 7ms/step - loss: 6.8606 - mae: 6.8606\n",
      "Epoch 96/100\n",
      "1/1 [==============================] - 0s 7ms/step - loss: 6.8550 - mae: 6.8550\n",
      "Epoch 97/100\n",
      "1/1 [==============================] - 0s 5ms/step - loss: 6.8494 - mae: 6.8494\n",
      "Epoch 98/100\n",
      "1/1 [==============================] - 0s 7ms/step - loss: 6.8438 - mae: 6.8438\n",
      "Epoch 99/100\n",
      "1/1 [==============================] - 0s 6ms/step - loss: 6.8381 - mae: 6.8381\n",
      "Epoch 100/100\n",
      "1/1 [==============================] - 0s 5ms/step - loss: 6.8325 - mae: 6.8325\n"
     ]
    },
    {
     "data": {
      "text/plain": [
       "<keras.callbacks.History at 0x21015759900>"
      ]
     },
     "execution_count": 12,
     "metadata": {},
     "output_type": "execute_result"
    }
   ],
   "source": [
    "# Set random seed\n",
    "tf.random.set_seed(42)\n",
    "\n",
    "# Create a model ( Same as before)\n",
    "model = tf.keras.Sequential([\n",
    "    tf.keras.layers.Dense(1)\n",
    "])\n",
    "\n",
    "# Compile model (same as before)\n",
    "model.compile(loss=tf.keras.losses.mae,\n",
    "              optimizer=tf.keras.optimizers.SGD(),\n",
    "              metrics=[\"mae\"])\n",
    "\n",
    "# Fit model\n",
    "model.fit(tf.expand_dims(x, axis=-1), y, epochs=100)"
   ]
  },
  {
   "cell_type": "code",
   "execution_count": 13,
   "metadata": {},
   "outputs": [
    {
     "data": {
      "text/plain": [
       "(<tf.Tensor: shape=(8,), dtype=float32, numpy=array([-7., -4., -1.,  2.,  5.,  8., 11., 14.], dtype=float32)>,\n",
       " <tf.Tensor: shape=(8,), dtype=float32, numpy=array([ 3.,  6.,  9., 12., 15., 18., 21., 24.], dtype=float32)>)"
      ]
     },
     "execution_count": 13,
     "metadata": {},
     "output_type": "execute_result"
    }
   ],
   "source": [
    "x, y"
   ]
  },
  {
   "cell_type": "code",
   "execution_count": 14,
   "metadata": {},
   "outputs": [
    {
     "name": "stdout",
     "output_type": "stream",
     "text": [
      "1/1 [==============================] - 0s 72ms/step\n"
     ]
    },
    {
     "data": {
      "text/plain": [
       "array([[29.678745]], dtype=float32)"
      ]
     },
     "execution_count": 14,
     "metadata": {},
     "output_type": "execute_result"
    }
   ],
   "source": [
    "# Make Prediction\n",
    "model.predict(input_data)\n",
    "#model.predict([17.0])"
   ]
  },
  {
   "cell_type": "markdown",
   "metadata": {},
   "source": [
    "## Evaluating a model\n",
    "`Build a model -> evaluate it -> build (tweak) a model -> evaluate it -> build (tweak) a model -> evaluate it...`\n",
    "\n",
    "Visualize,\n",
    "* `The data` - what kind of data working with, what dose it look like?\n",
    "* `The model itself` - what does the architecure look like? what are the different shapes?\n",
    "* `The training of a model` - how does a model perform while it learns?\n",
    "* `The predictions of a model` - how do the predictions of a model line up against the ground truth(the orginal labels)?"
   ]
  },
  {
   "cell_type": "code",
   "execution_count": 15,
   "metadata": {},
   "outputs": [
    {
     "data": {
      "text/plain": [
       "array([-100,  -96,  -92,  -88,  -84,  -80,  -76,  -72,  -68,  -64,  -60,\n",
       "        -56,  -52,  -48,  -44,  -40,  -36,  -32,  -28,  -24,  -20,  -16,\n",
       "        -12,   -8,   -4,    0,    4,    8,   12,   16,   20,   24,   28,\n",
       "         32,   36,   40,   44,   48,   52,   56,   60,   64,   68,   72,\n",
       "         76,   80,   84,   88,   92,   96])"
      ]
     },
     "execution_count": 15,
     "metadata": {},
     "output_type": "execute_result"
    }
   ],
   "source": [
    "# Make a bigger dataset\n",
    "x = np.arange(-100, 100, 4)\n",
    "x"
   ]
  },
  {
   "cell_type": "code",
   "execution_count": 16,
   "metadata": {},
   "outputs": [
    {
     "data": {
      "text/plain": [
       "array([-90, -86, -82, -78, -74, -70, -66, -62, -58, -54, -50, -46, -42,\n",
       "       -38, -34, -30, -26, -22, -18, -14, -10,  -6,  -2,   2,   6,  10,\n",
       "        14,  18,  22,  26,  30,  34,  38,  42,  46,  50,  54,  58,  62,\n",
       "        66,  70,  74,  78,  82,  86,  90,  94,  98, 102, 106])"
      ]
     },
     "execution_count": 16,
     "metadata": {},
     "output_type": "execute_result"
    }
   ],
   "source": [
    "# Make labels for the dataset \n",
    "y = np.arange(-90, 110, 4)\n",
    "y"
   ]
  },
  {
   "cell_type": "markdown",
   "metadata": {},
   "source": [
    "## Split data into training/test data\n",
    "\n",
    "* `Training set` - the model learns from this data, which is typically 70-80% of the total data available.\n",
    "* `Validation set` - the model gets tuned on this data, which is typically 10-15% of the toatal data availabe.\n",
    "* `Test set` - the model gets evaluated on this data to test what it has learned, it's typically 10-15% of the total available data."
   ]
  },
  {
   "cell_type": "code",
   "execution_count": 17,
   "metadata": {},
   "outputs": [
    {
     "data": {
      "text/plain": [
       "50"
      ]
     },
     "execution_count": 17,
     "metadata": {},
     "output_type": "execute_result"
    }
   ],
   "source": [
    "# Chack how many data have\n",
    "len(x)"
   ]
  },
  {
   "cell_type": "code",
   "execution_count": 18,
   "metadata": {},
   "outputs": [
    {
     "data": {
      "text/plain": [
       "(40, 40, 10, 10)"
      ]
     },
     "execution_count": 18,
     "metadata": {},
     "output_type": "execute_result"
    }
   ],
   "source": [
    "# Split data into train and test sets\n",
    "x_train = x[:40] # first 40 examples (80% of data)\n",
    "y_train = y[:40]\n",
    "\n",
    "x_test = x[40:] # last 10 examples (20% of data)\n",
    "y_test = y[40:]\n",
    "\n",
    "len(x_train), len(y_train), len(x_test), len(y_test)"
   ]
  },
  {
   "cell_type": "markdown",
   "metadata": {},
   "source": [
    "## Visualizing the data"
   ]
  },
  {
   "cell_type": "code",
   "execution_count": 19,
   "metadata": {},
   "outputs": [
    {
     "data": {
      "image/png": "[encoded data removed]",
      "text/plain": [
       "<Figure size 1000x700 with 1 Axes>"
      ]
     },
     "metadata": {},
     "output_type": "display_data"
    }
   ],
   "source": [
    "plt.figure(figsize=(10, 7))\n",
    "# plot training data in blue\n",
    "plt.scatter(x_train, y_train, c='b', label='Training data')\n",
    "# plot test data in green\n",
    "plt.scatter(x_test, y_test, c='g', label= 'Testing data')\n",
    "# Show the legend\n",
    "plt.legend();"
   ]
  },
  {
   "cell_type": "markdown",
   "metadata": {},
   "source": [
    "## Visualizing the model"
   ]
  },
  {
   "cell_type": "code",
   "execution_count": 20,
   "metadata": {},
   "outputs": [],
   "source": [
    "# Set random seeds\n",
    "tf.random.set_seed(42)\n",
    "\n",
    "# Create a model\n",
    "model = tf.keras.Sequential([\n",
    "    tf.keras.layers.Dense(1, input_shape=[1]) # define the input_shape to our model\n",
    "])\n",
    "\n",
    "# Compile model\n",
    "model.compile(loss=tf.keras.losses.mae,\n",
    "              optimizer=tf.keras.optimizers.SGD(),\n",
    "              metrics=[\"mae\"])"
   ]
  },
  {
   "cell_type": "code",
   "execution_count": 21,
   "metadata": {},
   "outputs": [
    {
     "name": "stdout",
     "output_type": "stream",
     "text": [
      "Model: \"sequential_2\"\n",
      "_________________________________________________________________\n",
      " Layer (type)                Output Shape              Param #   \n",
      "=================================================================\n",
      " dense_2 (Dense)             (None, 1)                 2         \n",
      "                                                                 \n",
      "=================================================================\n",
      "Total params: 2\n",
      "Trainable params: 2\n",
      "Non-trainable params: 0\n",
      "_________________________________________________________________\n"
     ]
    }
   ],
   "source": [
    "# This will work after specifying the input shape\n",
    "model.summary()"
   ]
  },
  {
   "cell_type": "markdown",
   "metadata": {},
   "source": [
    "Calling `summary()` on model shows the layers it contains, the ouput shape and the number of parameters\n",
    "* `Total params` - total number of parameters in the model.\n",
    "* `Trainable parameters` - these ara the parameters (patterns) the model can update as it trains.\n",
    "* `Non-trainable parameters` - these parameters aren't updated during training."
   ]
  },
  {
   "cell_type": "code",
   "execution_count": 22,
   "metadata": {},
   "outputs": [
    {
     "data": {
      "text/plain": [
       "<keras.callbacks.History at 0x210d79885e0>"
      ]
     },
     "execution_count": 22,
     "metadata": {},
     "output_type": "execute_result"
    }
   ],
   "source": [
    "# Fit the model to the training data\n",
    "model.fit(x_train, y_train, epochs=100, verbose=0) # verbose controls how much gets output"
   ]
  },
  {
   "cell_type": "code",
   "execution_count": 23,
   "metadata": {},
   "outputs": [
    {
     "name": "stdout",
     "output_type": "stream",
     "text": [
      "Model: \"sequential_2\"\n",
      "_________________________________________________________________\n",
      " Layer (type)                Output Shape              Param #   \n",
      "=================================================================\n",
      " dense_2 (Dense)             (None, 1)                 2         \n",
      "                                                                 \n",
      "=================================================================\n",
      "Total params: 2\n",
      "Trainable params: 2\n",
      "Non-trainable params: 0\n",
      "_________________________________________________________________\n"
     ]
    }
   ],
   "source": [
    "model.summary()"
   ]
  },
  {
   "cell_type": "code",
   "execution_count": 24,
   "metadata": {},
   "outputs": [
    {
     "name": "stdout",
     "output_type": "stream",
     "text": [
      "You must install pydot (`pip install pydot`) and install graphviz (see instructions at https://graphviz.gitlab.io/download/) for plot_model to work.\n"
     ]
    }
   ],
   "source": [
    "from tensorflow.keras.utils import plot_model\n",
    "plot_model(model, show_shapes= True)"
   ]
  },
  {
   "cell_type": "markdown",
   "metadata": {},
   "source": [
    "## Visualizing the prediction\n"
   ]
  },
  {
   "cell_type": "code",
   "execution_count": 25,
   "metadata": {},
   "outputs": [
    {
     "name": "stdout",
     "output_type": "stream",
     "text": [
      "1/1 [==============================] - 0s 153ms/step\n"
     ]
    }
   ],
   "source": [
    "# Make prediction\n",
    "y_preds = model.predict(x_test)"
   ]
  },
  {
   "cell_type": "code",
   "execution_count": 26,
   "metadata": {},
   "outputs": [
    {
     "data": {
      "text/plain": [
       "array([[ 74.59309 ],\n",
       "       [ 79.478584],\n",
       "       [ 84.36408 ],\n",
       "       [ 89.24958 ],\n",
       "       [ 94.13508 ],\n",
       "       [ 99.02058 ],\n",
       "       [103.906075],\n",
       "       [108.79157 ],\n",
       "       [113.67707 ],\n",
       "       [118.56256 ]], dtype=float32)"
      ]
     },
     "execution_count": 26,
     "metadata": {},
     "output_type": "execute_result"
    }
   ],
   "source": [
    "# View the predictions\n",
    "y_preds"
   ]
  },
  {
   "cell_type": "code",
   "execution_count": 27,
   "metadata": {},
   "outputs": [],
   "source": [
    "def plot_predictions(train_data = x_train,\n",
    "                     train_labels=y_train,\n",
    "                     test_data=x_test,\n",
    "                     test_labels=y_test,\n",
    "                     predictons=y_preds):\n",
    "    \"\"\"\n",
    "    Plot training data, test data and compares predictions.\n",
    "    \"\"\"\n",
    "    plt.figure(figsize=(10, 7))\n",
    "    # Plot traning data in blue\n",
    "    plt.scatter(train_data, train_labels, c=\"b\", label=\"Training data\")\n",
    "    # Plot test data in green\n",
    "    plt.scatter(test_data, test_labels, c=\"g\", label=\"Testing data\")\n",
    "    # Plot the predictions in red\n",
    "    plt.scatter(test_data, predictons, c=\"r\", label=\"Predictions\")\n",
    "    # Shows the legend\n",
    "    plt.legend();"
   ]
  },
  {
   "cell_type": "code",
   "execution_count": 28,
   "metadata": {},
   "outputs": [
    {
     "data": {
      "image/png": "[encoded data removed]",
      "text/plain": [
       "<Figure size 1000x700 with 1 Axes>"
      ]
     },
     "metadata": {},
     "output_type": "display_data"
    }
   ],
   "source": [
    "plot_predictions(train_data=x_train, train_labels=y_train, test_data=x_test, test_labels=y_test, predictons=y_preds)"
   ]
  },
  {
   "cell_type": "markdown",
   "metadata": {},
   "source": [
    "## Evaluating predictions\n",
    "Two of the main metric used for regression problems are:\n",
    "* `Mean absolute error (MAE)` - the mean difference between each of the predictions.\n",
    "* `Mean Squared error (MSE)` - the squared mean difference between of the predicrions (use if larger errors are more detrimental than smaller errors)."
   ]
  },
  {
   "cell_type": "code",
   "execution_count": 29,
   "metadata": {},
   "outputs": [
    {
     "name": "stdout",
     "output_type": "stream",
     "text": [
      "1/1 [==============================] - 0s 132ms/step - loss: 8.5778 - mae: 8.5778\n"
     ]
    },
    {
     "data": {
      "text/plain": [
       "[8.577826499938965, 8.577826499938965]"
      ]
     },
     "execution_count": 29,
     "metadata": {},
     "output_type": "execute_result"
    }
   ],
   "source": [
    "model.evaluate(x_test, y_test)"
   ]
  },
  {
   "cell_type": "code",
   "execution_count": 31,
   "metadata": {},
   "outputs": [
    {
     "data": {
      "text/plain": [
       "<tf.Tensor: shape=(10,), dtype=float32, numpy=\n",
       "array([14.444148, 11.808566, 10.327184, 10.      , 10.854032, 13.012346,\n",
       "       16.32486 , 20.791573, 25.677069, 30.562561], dtype=float32)>"
      ]
     },
     "execution_count": 31,
     "metadata": {},
     "output_type": "execute_result"
    }
   ],
   "source": [
    "# Calculate the mean absolute error\n",
    "mae = tf.metrics.mean_absolute_error(y_true=y_test, y_pred=y_preds)\n",
    "mae"
   ]
  },
  {
   "cell_type": "markdown",
   "metadata": {},
   "source": [
    "MAE should be a single output,\n",
    "* This is because `y_test` and `y_preds` are in different shapes."
   ]
  },
  {
   "cell_type": "code",
   "execution_count": 32,
   "metadata": {},
   "outputs": [
    {
     "data": {
      "text/plain": [
       "array([ 70,  74,  78,  82,  86,  90,  94,  98, 102, 106])"
      ]
     },
     "execution_count": 32,
     "metadata": {},
     "output_type": "execute_result"
    }
   ],
   "source": [
    "# Check the test label tensor values\n",
    "y_test"
   ]
  },
  {
   "cell_type": "code",
   "execution_count": 33,
   "metadata": {},
   "outputs": [
    {
     "data": {
      "text/plain": [
       "array([[ 74.59309 ],\n",
       "       [ 79.478584],\n",
       "       [ 84.36408 ],\n",
       "       [ 89.24958 ],\n",
       "       [ 94.13508 ],\n",
       "       [ 99.02058 ],\n",
       "       [103.906075],\n",
       "       [108.79157 ],\n",
       "       [113.67707 ],\n",
       "       [118.56256 ]], dtype=float32)"
      ]
     },
     "execution_count": 33,
     "metadata": {},
     "output_type": "execute_result"
    }
   ],
   "source": [
    "# Check the predictions tensor values\n",
    "y_preds"
   ]
  },
  {
   "cell_type": "code",
   "execution_count": 34,
   "metadata": {},
   "outputs": [
    {
     "data": {
      "text/plain": [
       "((10,), (10, 1))"
      ]
     },
     "execution_count": 34,
     "metadata": {},
     "output_type": "execute_result"
    }
   ],
   "source": [
    "# Check the tensor shapes\n",
    "y_test.shape, y_preds.shape"
   ]
  },
  {
   "cell_type": "code",
   "execution_count": 35,
   "metadata": {},
   "outputs": [
    {
     "data": {
      "text/plain": [
       "(10,)"
      ]
     },
     "execution_count": 35,
     "metadata": {},
     "output_type": "execute_result"
    }
   ],
   "source": [
    "# Squeeze the y_preds\n",
    "y_preds.squeeze().shape"
   ]
  },
  {
   "cell_type": "code",
   "execution_count": 36,
   "metadata": {},
   "outputs": [
    {
     "data": {
      "text/plain": [
       "(array([ 70,  74,  78,  82,  86,  90,  94,  98, 102, 106]),\n",
       " array([ 74.59309 ,  79.478584,  84.36408 ,  89.24958 ,  94.13508 ,\n",
       "         99.02058 , 103.906075, 108.79157 , 113.67707 , 118.56256 ],\n",
       "       dtype=float32))"
      ]
     },
     "execution_count": 36,
     "metadata": {},
     "output_type": "execute_result"
    }
   ],
   "source": [
    "y_test, y_preds.squeeze()"
   ]
  },
  {
   "cell_type": "code",
   "execution_count": 38,
   "metadata": {},
   "outputs": [
    {
     "data": {
      "text/plain": [
       "<tf.Tensor: shape=(), dtype=float32, numpy=8.5778265>"
      ]
     },
     "execution_count": 38,
     "metadata": {},
     "output_type": "execute_result"
    }
   ],
   "source": [
    "# Calcuate the MAE\n",
    "mae = tf.metrics.mean_absolute_error(y_true=y_test, y_pred=y_preds.squeeze())\n",
    "\n",
    "mae"
   ]
  },
  {
   "cell_type": "code",
   "execution_count": null,
   "metadata": {},
   "outputs": [],
   "source": []
  }
 ],
 "metadata": {
  "kernelspec": {
   "display_name": "Python 3",
   "language": "python",
   "name": "python3"
  },
  "language_info": {
   "codemirror_mode": {
    "name": "ipython",
    "version": 3
   },
   "file_extension": ".py",
   "mimetype": "text/x-python",
   "name": "python",
   "nbconvert_exporter": "python",
   "pygments_lexer": "ipython3",
   "version": "3.10.14"
  }
 },
 "nbformat": 4,
 "nbformat_minor": 2
}

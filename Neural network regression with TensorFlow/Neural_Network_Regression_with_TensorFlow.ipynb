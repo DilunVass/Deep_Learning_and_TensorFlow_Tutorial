{
 "cells": [
  {
   "cell_type": "markdown",
   "metadata": {},
   "source": [
    "# 01. Neural Network Regression with Tensorflow\n",
    "\n",
    "## Sub topics\n",
    "* Architecture of a regression model\n",
    "* Input shape and outupt shape\n",
    "    * `X`: Features/data(inputs)\n",
    "    * `Y`: labels (outputs)\n",
    "\n",
    "* Creating custom data to view and fit\n",
    "* Steps in modeling\n",
    "    * Creating a model\n",
    "    * Compiling a model\n",
    "        * Defining a loss function\n",
    "        * Setting up an optimizer\n",
    "        * Creating eveluation metrics\n",
    "    * Filtting a model (getting it to find pattenns in our data)\n",
    "\n",
    "* Eveluating a model\n",
    "    * Visualizing the model\n",
    "    * Looking at training curves\n",
    "    * Compare predictions to ground truth(using the eveluatin metrics)\n",
    "\n",
    "* Saving a model \n",
    "* Loading a model"
   ]
  },
  {
   "cell_type": "markdown",
   "metadata": {},
   "source": [
    "## Typical architecture of regresion neural network\n",
    "\n",
    "| **Hyperparameter** | **Typical Value**|\n",
    "|--|--|\n",
    "| Input layer shape | Same shape as number of features |\n",
    "| Hidden layer(s) | Problem specific, minimum = 1, maximum = unlimited |\n",
    "| Neurons per hidden layer | Problem specific, generally 10 - 100 |\n",
    "| Output layer shape | Same shape as desired prediction shape |\n",
    "| Hidden activation | Usually [ReLU](https://www.kaggle.com/dansbecker/rectified-linear-units-relu-in-deep-learning) (rectified linear unit) |\n",
    "| Output activation | None, ReLU, logistic/tanh |\n",
    "| Loss function | [MSE](https://en.wikipedia.org/wiki/Mean_squared_error) (mean square error) or [MAE](https://en.wikipedia.org/wiki/Mean_absolute_error) (mean absolute error)/Huber (combination of MAE/MSE) if outliers |\n",
    "| Optimizer | [SGD](https://www.tensorflow.org/api_docs/python/tf/keras/optimizers/SGD) (stochastic gradient descent), [Adam](https://www.tensorflow.org/api_docs/python/tf/keras/optimizers/Adam) |"
   ]
  },
  {
   "cell_type": "code",
   "execution_count": 102,
   "metadata": {},
   "outputs": [
    {
     "name": "stdout",
     "output_type": "stream",
     "text": [
      "2.10.1\n",
      "This notebook was last run on: 2024-10-03 00:29:09.026844\n"
     ]
    }
   ],
   "source": [
    "import tensorflow as tf\n",
    "print(tf.__version__)\n",
    "\n",
    "import datetime\n",
    "print(f\"This notebook was last run on: {datetime.datetime.now()}\")"
   ]
  },
  {
   "cell_type": "markdown",
   "metadata": {},
   "source": [
    "## Creating data to view and fit"
   ]
  },
  {
   "cell_type": "code",
   "execution_count": 103,
   "metadata": {},
   "outputs": [
    {
     "data": {
      "image/png": "[encoded data removed]",
      "text/plain": [
       "<Figure size 640x480 with 1 Axes>"
      ]
     },
     "metadata": {},
     "output_type": "display_data"
    }
   ],
   "source": [
    "import numpy as np\n",
    "import matplotlib.pyplot as plt\n",
    "\n",
    "# Create features\n",
    "x = np.array([1, 2, 3, 4, 5, 6, 7, 8, 9, 10], dtype=float)\n",
    "# Create labels\n",
    "y = np.array([1, 1.5, 2, 2.5, 3, 3.5, 4, 4.5, 5, 5.5], dtype=float)\n",
    "\n",
    "# Visualize the data\n",
    "plt.scatter(x, y);"
   ]
  },
  {
   "cell_type": "markdown",
   "metadata": {},
   "source": [
    "## Regression input shapes and output shapes\n",
    "\n",
    "* The `input shape` is the shape of the data that gose into the model.\n",
    "* The `output shape` is the shape of data come out from the model."
   ]
  },
  {
   "cell_type": "code",
   "execution_count": 104,
   "metadata": {},
   "outputs": [
    {
     "data": {
      "text/plain": [
       "(<tf.Tensor: shape=(3,), dtype=string, numpy=array([b'bedroom', b'bathroom', b'garage'], dtype=object)>,\n",
       " <tf.Tensor: shape=(1,), dtype=int32, numpy=array([900000])>)"
      ]
     },
     "execution_count": 104,
     "metadata": {},
     "output_type": "execute_result"
    }
   ],
   "source": [
    "# Example input and output shape of the regression model\n",
    "house_info = tf.constant([\"bedroom\", \"bathroom\", \"garage\"])\n",
    "house_price = tf.constant([900000])\n",
    "house_info, house_price"
   ]
  },
  {
   "cell_type": "code",
   "execution_count": 105,
   "metadata": {},
   "outputs": [
    {
     "data": {
      "text/plain": [
       "TensorShape([3])"
      ]
     },
     "execution_count": 105,
     "metadata": {},
     "output_type": "execute_result"
    }
   ],
   "source": [
    "house_info.shape"
   ]
  },
  {
   "cell_type": "code",
   "execution_count": 106,
   "metadata": {},
   "outputs": [
    {
     "data": {
      "image/png": "[encoded data removed]",
      "text/plain": [
       "<Figure size 640x480 with 1 Axes>"
      ]
     },
     "metadata": {},
     "output_type": "display_data"
    }
   ],
   "source": [
    "import numpy as np\n",
    "import matplotlib.pyplot as plt\n",
    "\n",
    "# Create features\n",
    "x = tf.constant([-7.0, -4.0, -1.0, 2.0, 5.0, 8.0, 11.0, 14.0], dtype=float)\n",
    "# Create labels\n",
    "y = tf.constant([3.0, 6.0, 9.0, 12.0, 15.0, 18.0, 21.0, 24.0], dtype=float)\n",
    "\n",
    "# Visualize the data\n",
    "plt.scatter(x, y);"
   ]
  },
  {
   "cell_type": "code",
   "execution_count": 107,
   "metadata": {},
   "outputs": [
    {
     "data": {
      "text/plain": [
       "(TensorShape([]), TensorShape([]))"
      ]
     },
     "execution_count": 107,
     "metadata": {},
     "output_type": "execute_result"
    }
   ],
   "source": [
    "# Take a single example of x\n",
    "input_shape = x[0].shape\n",
    "\n",
    "# Take a single example of y\n",
    "output_shape = y[0].shape\n",
    "\n",
    "input_shape, output_shape # These are both scalars (no shape)"
   ]
  },
  {
   "cell_type": "code",
   "execution_count": 108,
   "metadata": {},
   "outputs": [
    {
     "data": {
      "text/plain": [
       "(<tf.Tensor: shape=(), dtype=float32, numpy=-7.0>,\n",
       " <tf.Tensor: shape=(), dtype=float32, numpy=3.0>)"
      ]
     },
     "execution_count": 108,
     "metadata": {},
     "output_type": "execute_result"
    }
   ],
   "source": [
    "# Single examples invidually\n",
    "x[0], y[0]"
   ]
  },
  {
   "cell_type": "markdown",
   "metadata": {},
   "source": [
    "## Steps in modelling with TensorFlow\n",
    "\n",
    "In TensorFlow, there are typically 3 fundamental steps to creating and training a model\n",
    "1. `Creating a model` - piece together the layers of neural network.\n",
    "2. `Compilling a model` - defining how a models perfomaces should be measured.\n",
    "3. `Fitting a model` - letting the model try to find patterns in the data."
   ]
  },
  {
   "cell_type": "code",
   "execution_count": 109,
   "metadata": {},
   "outputs": [
    {
     "name": "stdout",
     "output_type": "stream",
     "text": [
      "Epoch 1/5\n",
      "1/1 [==============================] - 0s 261ms/step - loss: 13.3744 - mae: 13.3744\n",
      "Epoch 2/5\n",
      "1/1 [==============================] - 0s 8ms/step - loss: 13.2419 - mae: 13.2419\n",
      "Epoch 3/5\n",
      "1/1 [==============================] - 0s 5ms/step - loss: 13.1094 - mae: 13.1094\n",
      "Epoch 4/5\n",
      "1/1 [==============================] - 0s 5ms/step - loss: 12.9769 - mae: 12.9769\n",
      "Epoch 5/5\n",
      "1/1 [==============================] - 0s 10ms/step - loss: 12.8444 - mae: 12.8444\n"
     ]
    },
    {
     "data": {
      "text/plain": [
       "<keras.callbacks.History at 0x2b80f650280>"
      ]
     },
     "execution_count": 109,
     "metadata": {},
     "output_type": "execute_result"
    }
   ],
   "source": [
    "# Set random seed\n",
    "tf.random.set_seed(42)\n",
    "\n",
    "# Create a model using the Sequential API\n",
    "model = tf.keras.Sequential([\n",
    "    tf.keras.layers.Dense(1)\n",
    "])\n",
    "\n",
    "# Compile the model\n",
    "model.compile(loss=tf.keras.losses.mae, # mea is short of mean absolute error\n",
    "              optimizer = tf.keras.optimizers.SGD(), # SGD is short of stochastic gradient descent\n",
    "              metrics=[\"mae\"])\n",
    "\n",
    "# Fit the model\n",
    "model.fit(tf.expand_dims(x, axis=1), y, epochs=5)"
   ]
  },
  {
   "cell_type": "code",
   "execution_count": 110,
   "metadata": {},
   "outputs": [
    {
     "data": {
      "text/plain": [
       "(<tf.Tensor: shape=(8,), dtype=float32, numpy=array([-7., -4., -1.,  2.,  5.,  8., 11., 14.], dtype=float32)>,\n",
       " <tf.Tensor: shape=(8,), dtype=float32, numpy=array([ 3.,  6.,  9., 12., 15., 18., 21., 24.], dtype=float32)>)"
      ]
     },
     "execution_count": 110,
     "metadata": {},
     "output_type": "execute_result"
    }
   ],
   "source": [
    "# Check out x, y\n",
    "x, y"
   ]
  },
  {
   "cell_type": "code",
   "execution_count": 111,
   "metadata": {},
   "outputs": [
    {
     "name": "stdout",
     "output_type": "stream",
     "text": [
      "1/1 [==============================] - 0s 42ms/step\n"
     ]
    },
    {
     "data": {
      "text/plain": [
       "array([[3.6350543]], dtype=float32)"
      ]
     },
     "execution_count": 111,
     "metadata": {},
     "output_type": "execute_result"
    }
   ],
   "source": [
    "# Make a prediction with the model\n",
    "import numpy as np\n",
    "\n",
    "# Convert the list to a NumPy array\n",
    "input_data = np.array([17])\n",
    "\n",
    "# Make a prediction with the model\n",
    "model.predict(input_data)"
   ]
  },
  {
   "cell_type": "markdown",
   "metadata": {},
   "source": [
    "## Improving a model\n",
    "\n",
    "To improve model,\n",
    "1. `Creating a model` - add more layers, increase the number of hidden units (also called neurons) withing each layer, change the activation functions of each layer.\n",
    "2. `Compilling a model` - Choose opimization function or perhaps change the `learning rate` of the optimization function.\n",
    "3. `Fitting a model` - Fit a model with more `epochs`."
   ]
  },
  {
   "cell_type": "code",
   "execution_count": 112,
   "metadata": {},
   "outputs": [
    {
     "name": "stdout",
     "output_type": "stream",
     "text": [
      "Epoch 1/100\n",
      "1/1 [==============================] - 0s 256ms/step - loss: 13.5351 - mae: 13.5351\n",
      "Epoch 2/100\n",
      "1/1 [==============================] - 0s 5ms/step - loss: 13.4026 - mae: 13.4026\n",
      "Epoch 3/100\n",
      "1/1 [==============================] - 0s 39ms/step - loss: 13.2701 - mae: 13.2701\n",
      "Epoch 4/100\n",
      "1/1 [==============================] - 0s 6ms/step - loss: 13.1376 - mae: 13.1376\n",
      "Epoch 5/100\n",
      "1/1 [==============================] - 0s 6ms/step - loss: 13.0051 - mae: 13.0051\n",
      "Epoch 6/100\n",
      "1/1 [==============================] - 0s 6ms/step - loss: 12.8726 - mae: 12.8726\n",
      "Epoch 7/100\n",
      "1/1 [==============================] - 0s 6ms/step - loss: 12.7401 - mae: 12.7401\n",
      "Epoch 8/100\n",
      "1/1 [==============================] - 0s 6ms/step - loss: 12.6076 - mae: 12.6076\n",
      "Epoch 9/100\n",
      "1/1 [==============================] - 0s 5ms/step - loss: 12.4751 - mae: 12.4751\n",
      "Epoch 10/100\n",
      "1/1 [==============================] - 0s 5ms/step - loss: 12.3426 - mae: 12.3426\n",
      "Epoch 11/100\n",
      "1/1 [==============================] - 0s 5ms/step - loss: 12.2101 - mae: 12.2101\n",
      "Epoch 12/100\n",
      "1/1 [==============================] - 0s 12ms/step - loss: 12.0776 - mae: 12.0776\n",
      "Epoch 13/100\n",
      "1/1 [==============================] - 0s 7ms/step - loss: 11.9451 - mae: 11.9451\n",
      "Epoch 14/100\n",
      "1/1 [==============================] - 0s 5ms/step - loss: 11.8126 - mae: 11.8126\n",
      "Epoch 15/100\n",
      "1/1 [==============================] - 0s 4ms/step - loss: 11.6801 - mae: 11.6801\n",
      "Epoch 16/100\n",
      "1/1 [==============================] - 0s 12ms/step - loss: 11.5476 - mae: 11.5476\n",
      "Epoch 17/100\n",
      "1/1 [==============================] - 0s 6ms/step - loss: 11.4151 - mae: 11.4151\n",
      "Epoch 18/100\n",
      "1/1 [==============================] - 0s 4ms/step - loss: 11.2826 - mae: 11.2826\n",
      "Epoch 19/100\n",
      "1/1 [==============================] - 0s 5ms/step - loss: 11.1501 - mae: 11.1501\n",
      "Epoch 20/100\n",
      "1/1 [==============================] - 0s 4ms/step - loss: 11.0176 - mae: 11.0176\n",
      "Epoch 21/100\n",
      "1/1 [==============================] - 0s 11ms/step - loss: 10.8851 - mae: 10.8851\n",
      "Epoch 22/100\n",
      "1/1 [==============================] - 0s 13ms/step - loss: 10.7526 - mae: 10.7526\n",
      "Epoch 23/100\n",
      "1/1 [==============================] - 0s 10ms/step - loss: 10.6201 - mae: 10.6201\n",
      "Epoch 24/100\n",
      "1/1 [==============================] - 0s 5ms/step - loss: 10.4876 - mae: 10.4876\n",
      "Epoch 25/100\n",
      "1/1 [==============================] - 0s 5ms/step - loss: 10.3551 - mae: 10.3551\n",
      "Epoch 26/100\n",
      "1/1 [==============================] - 0s 8ms/step - loss: 10.2226 - mae: 10.2226\n",
      "Epoch 27/100\n",
      "1/1 [==============================] - 0s 5ms/step - loss: 10.0901 - mae: 10.0901\n",
      "Epoch 28/100\n",
      "1/1 [==============================] - 0s 7ms/step - loss: 9.9576 - mae: 9.9576\n",
      "Epoch 29/100\n",
      "1/1 [==============================] - 0s 5ms/step - loss: 9.8251 - mae: 9.8251\n",
      "Epoch 30/100\n",
      "1/1 [==============================] - 0s 5ms/step - loss: 9.6926 - mae: 9.6926\n",
      "Epoch 31/100\n",
      "1/1 [==============================] - 0s 5ms/step - loss: 9.5601 - mae: 9.5601\n",
      "Epoch 32/100\n",
      "1/1 [==============================] - 0s 6ms/step - loss: 9.4276 - mae: 9.4276\n",
      "Epoch 33/100\n",
      "1/1 [==============================] - 0s 5ms/step - loss: 9.2951 - mae: 9.2951\n",
      "Epoch 34/100\n",
      "1/1 [==============================] - 0s 5ms/step - loss: 9.1626 - mae: 9.1626\n",
      "Epoch 35/100\n",
      "1/1 [==============================] - 0s 5ms/step - loss: 9.0301 - mae: 9.0301\n",
      "Epoch 36/100\n",
      "1/1 [==============================] - 0s 6ms/step - loss: 8.8976 - mae: 8.8976\n",
      "Epoch 37/100\n",
      "1/1 [==============================] - 0s 5ms/step - loss: 8.7651 - mae: 8.7651\n",
      "Epoch 38/100\n",
      "1/1 [==============================] - 0s 6ms/step - loss: 8.6326 - mae: 8.6326\n",
      "Epoch 39/100\n",
      "1/1 [==============================] - 0s 4ms/step - loss: 8.5001 - mae: 8.5001\n",
      "Epoch 40/100\n",
      "1/1 [==============================] - 0s 5ms/step - loss: 8.3676 - mae: 8.3676\n",
      "Epoch 41/100\n",
      "1/1 [==============================] - 0s 4ms/step - loss: 8.2351 - mae: 8.2351\n",
      "Epoch 42/100\n",
      "1/1 [==============================] - 0s 5ms/step - loss: 8.1026 - mae: 8.1026\n",
      "Epoch 43/100\n",
      "1/1 [==============================] - 0s 5ms/step - loss: 7.9701 - mae: 7.9701\n",
      "Epoch 44/100\n",
      "1/1 [==============================] - 0s 4ms/step - loss: 7.8376 - mae: 7.8376\n",
      "Epoch 45/100\n",
      "1/1 [==============================] - 0s 4ms/step - loss: 7.7051 - mae: 7.7051\n",
      "Epoch 46/100\n",
      "1/1 [==============================] - 0s 4ms/step - loss: 7.5726 - mae: 7.5726\n",
      "Epoch 47/100\n",
      "1/1 [==============================] - 0s 4ms/step - loss: 7.4401 - mae: 7.4401\n",
      "Epoch 48/100\n",
      "1/1 [==============================] - 0s 5ms/step - loss: 7.3076 - mae: 7.3076\n",
      "Epoch 49/100\n",
      "1/1 [==============================] - 0s 4ms/step - loss: 7.1751 - mae: 7.1751\n",
      "Epoch 50/100\n",
      "1/1 [==============================] - 0s 5ms/step - loss: 7.1325 - mae: 7.1325\n",
      "Epoch 51/100\n",
      "1/1 [==============================] - 0s 4ms/step - loss: 7.1269 - mae: 7.1269\n",
      "Epoch 52/100\n",
      "1/1 [==============================] - 0s 6ms/step - loss: 7.1213 - mae: 7.1213\n",
      "Epoch 53/100\n",
      "1/1 [==============================] - 0s 5ms/step - loss: 7.1156 - mae: 7.1156\n",
      "Epoch 54/100\n",
      "1/1 [==============================] - 0s 4ms/step - loss: 7.1100 - mae: 7.1100\n",
      "Epoch 55/100\n",
      "1/1 [==============================] - 0s 5ms/step - loss: 7.1044 - mae: 7.1044\n",
      "Epoch 56/100\n",
      "1/1 [==============================] - 0s 4ms/step - loss: 7.0988 - mae: 7.0988\n",
      "Epoch 57/100\n",
      "1/1 [==============================] - 0s 5ms/step - loss: 7.0931 - mae: 7.0931\n",
      "Epoch 58/100\n",
      "1/1 [==============================] - 0s 5ms/step - loss: 7.0875 - mae: 7.0875\n",
      "Epoch 59/100\n",
      "1/1 [==============================] - 0s 5ms/step - loss: 7.0819 - mae: 7.0819\n",
      "Epoch 60/100\n",
      "1/1 [==============================] - 0s 5ms/step - loss: 7.0763 - mae: 7.0763\n",
      "Epoch 61/100\n",
      "1/1 [==============================] - 0s 5ms/step - loss: 7.0706 - mae: 7.0706\n",
      "Epoch 62/100\n",
      "1/1 [==============================] - 0s 5ms/step - loss: 7.0650 - mae: 7.0650\n",
      "Epoch 63/100\n",
      "1/1 [==============================] - 0s 4ms/step - loss: 7.0594 - mae: 7.0594\n",
      "Epoch 64/100\n",
      "1/1 [==============================] - 0s 5ms/step - loss: 7.0538 - mae: 7.0538\n",
      "Epoch 65/100\n",
      "1/1 [==============================] - 0s 5ms/step - loss: 7.0481 - mae: 7.0481\n",
      "Epoch 66/100\n",
      "1/1 [==============================] - 0s 5ms/step - loss: 7.0425 - mae: 7.0425\n",
      "Epoch 67/100\n",
      "1/1 [==============================] - 0s 5ms/step - loss: 7.0369 - mae: 7.0369\n",
      "Epoch 68/100\n",
      "1/1 [==============================] - 0s 5ms/step - loss: 7.0313 - mae: 7.0313\n",
      "Epoch 69/100\n",
      "1/1 [==============================] - 0s 5ms/step - loss: 7.0256 - mae: 7.0256\n",
      "Epoch 70/100\n",
      "1/1 [==============================] - 0s 4ms/step - loss: 7.0200 - mae: 7.0200\n",
      "Epoch 71/100\n",
      "1/1 [==============================] - 0s 6ms/step - loss: 7.0144 - mae: 7.0144\n",
      "Epoch 72/100\n",
      "1/1 [==============================] - 0s 4ms/step - loss: 7.0088 - mae: 7.0088\n",
      "Epoch 73/100\n",
      "1/1 [==============================] - 0s 5ms/step - loss: 7.0031 - mae: 7.0031\n",
      "Epoch 74/100\n",
      "1/1 [==============================] - 0s 5ms/step - loss: 6.9975 - mae: 6.9975\n",
      "Epoch 75/100\n",
      "1/1 [==============================] - 0s 4ms/step - loss: 6.9919 - mae: 6.9919\n",
      "Epoch 76/100\n",
      "1/1 [==============================] - 0s 5ms/step - loss: 6.9863 - mae: 6.9863\n",
      "Epoch 77/100\n",
      "1/1 [==============================] - 0s 4ms/step - loss: 6.9806 - mae: 6.9806\n",
      "Epoch 78/100\n",
      "1/1 [==============================] - 0s 5ms/step - loss: 6.9750 - mae: 6.9750\n",
      "Epoch 79/100\n",
      "1/1 [==============================] - 0s 4ms/step - loss: 6.9694 - mae: 6.9694\n",
      "Epoch 80/100\n",
      "1/1 [==============================] - 0s 5ms/step - loss: 6.9638 - mae: 6.9638\n",
      "Epoch 81/100\n",
      "1/1 [==============================] - 0s 4ms/step - loss: 6.9581 - mae: 6.9581\n",
      "Epoch 82/100\n",
      "1/1 [==============================] - 0s 5ms/step - loss: 6.9525 - mae: 6.9525\n",
      "Epoch 83/100\n",
      "1/1 [==============================] - 0s 4ms/step - loss: 6.9469 - mae: 6.9469\n",
      "Epoch 84/100\n",
      "1/1 [==============================] - 0s 4ms/step - loss: 6.9413 - mae: 6.9413\n",
      "Epoch 85/100\n",
      "1/1 [==============================] - 0s 4ms/step - loss: 6.9356 - mae: 6.9356\n",
      "Epoch 86/100\n",
      "1/1 [==============================] - 0s 6ms/step - loss: 6.9300 - mae: 6.9300\n",
      "Epoch 87/100\n",
      "1/1 [==============================] - 0s 4ms/step - loss: 6.9244 - mae: 6.9244\n",
      "Epoch 88/100\n",
      "1/1 [==============================] - 0s 6ms/step - loss: 6.9188 - mae: 6.9188\n",
      "Epoch 89/100\n",
      "1/1 [==============================] - 0s 5ms/step - loss: 6.9131 - mae: 6.9131\n",
      "Epoch 90/100\n",
      "1/1 [==============================] - 0s 5ms/step - loss: 6.9075 - mae: 6.9075\n",
      "Epoch 91/100\n",
      "1/1 [==============================] - 0s 4ms/step - loss: 6.9019 - mae: 6.9019\n",
      "Epoch 92/100\n",
      "1/1 [==============================] - 0s 5ms/step - loss: 6.8963 - mae: 6.8963\n",
      "Epoch 93/100\n",
      "1/1 [==============================] - 0s 5ms/step - loss: 6.8906 - mae: 6.8906\n",
      "Epoch 94/100\n",
      "1/1 [==============================] - 0s 7ms/step - loss: 6.8850 - mae: 6.8850\n",
      "Epoch 95/100\n",
      "1/1 [==============================] - 0s 4ms/step - loss: 6.8794 - mae: 6.8794\n",
      "Epoch 96/100\n",
      "1/1 [==============================] - 0s 5ms/step - loss: 6.8738 - mae: 6.8738\n",
      "Epoch 97/100\n",
      "1/1 [==============================] - 0s 5ms/step - loss: 6.8681 - mae: 6.8681\n",
      "Epoch 98/100\n",
      "1/1 [==============================] - 0s 6ms/step - loss: 6.8625 - mae: 6.8625\n",
      "Epoch 99/100\n",
      "1/1 [==============================] - 0s 4ms/step - loss: 6.8569 - mae: 6.8569\n",
      "Epoch 100/100\n",
      "1/1 [==============================] - 0s 6ms/step - loss: 6.8513 - mae: 6.8513\n"
     ]
    },
    {
     "data": {
      "text/plain": [
       "<keras.callbacks.History at 0x2b80e31db10>"
      ]
     },
     "execution_count": 112,
     "metadata": {},
     "output_type": "execute_result"
    }
   ],
   "source": [
    "# Set random seed\n",
    "tf.random.set_seed(42)\n",
    "\n",
    "# Create a model ( Same as before)\n",
    "model = tf.keras.Sequential([\n",
    "    tf.keras.layers.Dense(1)\n",
    "])\n",
    "\n",
    "# Compile model (same as before)\n",
    "model.compile(loss=tf.keras.losses.mae,\n",
    "              optimizer=tf.keras.optimizers.SGD(),\n",
    "              metrics=[\"mae\"])\n",
    "\n",
    "# Fit model\n",
    "model.fit(tf.expand_dims(x, axis=-1), y, epochs=100)"
   ]
  },
  {
   "cell_type": "code",
   "execution_count": 113,
   "metadata": {},
   "outputs": [
    {
     "data": {
      "text/plain": [
       "(<tf.Tensor: shape=(8,), dtype=float32, numpy=array([-7., -4., -1.,  2.,  5.,  8., 11., 14.], dtype=float32)>,\n",
       " <tf.Tensor: shape=(8,), dtype=float32, numpy=array([ 3.,  6.,  9., 12., 15., 18., 21., 24.], dtype=float32)>)"
      ]
     },
     "execution_count": 113,
     "metadata": {},
     "output_type": "execute_result"
    }
   ],
   "source": [
    "x, y"
   ]
  },
  {
   "cell_type": "code",
   "execution_count": 114,
   "metadata": {},
   "outputs": [
    {
     "name": "stdout",
     "output_type": "stream",
     "text": [
      "1/1 [==============================] - 0s 43ms/step\n"
     ]
    },
    {
     "data": {
      "text/plain": [
       "array([[29.857191]], dtype=float32)"
      ]
     },
     "execution_count": 114,
     "metadata": {},
     "output_type": "execute_result"
    }
   ],
   "source": [
    "# Make Prediction\n",
    "model.predict(input_data)\n",
    "#model.predict([17.0])"
   ]
  },
  {
   "cell_type": "markdown",
   "metadata": {},
   "source": [
    "## Evaluating a model\n",
    "`Build a model -> evaluate it -> build (tweak) a model -> evaluate it -> build (tweak) a model -> evaluate it...`\n",
    "\n",
    "Visualize,\n",
    "* `The data` - what kind of data working with, what dose it look like?\n",
    "* `The model itself` - what does the architecure look like? what are the different shapes?\n",
    "* `The training of a model` - how does a model perform while it learns?\n",
    "* `The predictions of a model` - how do the predictions of a model line up against the ground truth(the orginal labels)?"
   ]
  },
  {
   "cell_type": "code",
   "execution_count": 115,
   "metadata": {},
   "outputs": [
    {
     "data": {
      "text/plain": [
       "array([-100,  -96,  -92,  -88,  -84,  -80,  -76,  -72,  -68,  -64,  -60,\n",
       "        -56,  -52,  -48,  -44,  -40,  -36,  -32,  -28,  -24,  -20,  -16,\n",
       "        -12,   -8,   -4,    0,    4,    8,   12,   16,   20,   24,   28,\n",
       "         32,   36,   40,   44,   48,   52,   56,   60,   64,   68,   72,\n",
       "         76,   80,   84,   88,   92,   96])"
      ]
     },
     "execution_count": 115,
     "metadata": {},
     "output_type": "execute_result"
    }
   ],
   "source": [
    "# Make a bigger dataset\n",
    "x = np.arange(-100, 100, 4)\n",
    "x"
   ]
  },
  {
   "cell_type": "code",
   "execution_count": 116,
   "metadata": {},
   "outputs": [
    {
     "data": {
      "text/plain": [
       "array([-90, -86, -82, -78, -74, -70, -66, -62, -58, -54, -50, -46, -42,\n",
       "       -38, -34, -30, -26, -22, -18, -14, -10,  -6,  -2,   2,   6,  10,\n",
       "        14,  18,  22,  26,  30,  34,  38,  42,  46,  50,  54,  58,  62,\n",
       "        66,  70,  74,  78,  82,  86,  90,  94,  98, 102, 106])"
      ]
     },
     "execution_count": 116,
     "metadata": {},
     "output_type": "execute_result"
    }
   ],
   "source": [
    "# Make labels for the dataset \n",
    "y = np.arange(-90, 110, 4)\n",
    "y"
   ]
  },
  {
   "cell_type": "markdown",
   "metadata": {},
   "source": [
    "## Split data into training/test data\n",
    "\n",
    "* `Training set` - the model learns from this data, which is typically 70-80% of the total data available.\n",
    "* `Validation set` - the model gets tuned on this data, which is typically 10-15% of the toatal data availabe.\n",
    "* `Test set` - the model gets evaluated on this data to test what it has learned, it's typically 10-15% of the total available data."
   ]
  },
  {
   "cell_type": "code",
   "execution_count": 117,
   "metadata": {},
   "outputs": [
    {
     "data": {
      "text/plain": [
       "50"
      ]
     },
     "execution_count": 117,
     "metadata": {},
     "output_type": "execute_result"
    }
   ],
   "source": [
    "# Chack how many data have\n",
    "len(x)"
   ]
  },
  {
   "cell_type": "code",
   "execution_count": 118,
   "metadata": {},
   "outputs": [
    {
     "data": {
      "text/plain": [
       "(40, 40, 10, 10)"
      ]
     },
     "execution_count": 118,
     "metadata": {},
     "output_type": "execute_result"
    }
   ],
   "source": [
    "# Split data into train and test sets\n",
    "x_train = x[:40] # first 40 examples (80% of data)\n",
    "y_train = y[:40]\n",
    "\n",
    "x_test = x[40:] # last 10 examples (20% of data)\n",
    "y_test = y[40:]\n",
    "\n",
    "len(x_train), len(y_train), len(x_test), len(y_test)"
   ]
  },
  {
   "cell_type": "markdown",
   "metadata": {},
   "source": [
    "## Visualizing the data"
   ]
  },
  {
   "cell_type": "code",
   "execution_count": 119,
   "metadata": {},
   "outputs": [
    {
     "data": {
      "image/png": "[encoded data removed]",
      "text/plain": [
       "<Figure size 1000x700 with 1 Axes>"
      ]
     },
     "metadata": {},
     "output_type": "display_data"
    }
   ],
   "source": [
    "plt.figure(figsize=(10, 7))\n",
    "# plot training data in blue\n",
    "plt.scatter(x_train, y_train, c='b', label='Training data')\n",
    "# plot test data in green\n",
    "plt.scatter(x_test, y_test, c='g', label= 'Testing data')\n",
    "# Show the legend\n",
    "plt.legend();"
   ]
  },
  {
   "cell_type": "markdown",
   "metadata": {},
   "source": [
    "## Visualizing the model"
   ]
  },
  {
   "cell_type": "code",
   "execution_count": 120,
   "metadata": {},
   "outputs": [],
   "source": [
    "# Set random seeds\n",
    "tf.random.set_seed(42)\n",
    "\n",
    "# Create a model\n",
    "model = tf.keras.Sequential([\n",
    "    tf.keras.layers.Dense(1, input_shape=[1]) # define the input_shape to our model\n",
    "])\n",
    "\n",
    "# Compile model\n",
    "model.compile(loss=tf.keras.losses.mae,\n",
    "              optimizer=tf.keras.optimizers.SGD(),\n",
    "              metrics=[\"mae\"])"
   ]
  },
  {
   "cell_type": "code",
   "execution_count": 121,
   "metadata": {},
   "outputs": [
    {
     "name": "stdout",
     "output_type": "stream",
     "text": [
      "Model: \"sequential_15\"\n",
      "_________________________________________________________________\n",
      " Layer (type)                Output Shape              Param #   \n",
      "=================================================================\n",
      " dense_15 (Dense)            (None, 1)                 2         \n",
      "                                                                 \n",
      "=================================================================\n",
      "Total params: 2\n",
      "Trainable params: 2\n",
      "Non-trainable params: 0\n",
      "_________________________________________________________________\n"
     ]
    }
   ],
   "source": [
    "# This will work after specifying the input shape\n",
    "model.summary()"
   ]
  },
  {
   "cell_type": "markdown",
   "metadata": {},
   "source": [
    "Calling `summary()` on model shows the layers it contains, the ouput shape and the number of parameters\n",
    "* `Total params` - total number of parameters in the model.\n",
    "* `Trainable parameters` - these ara the parameters (patterns) the model can update as it trains.\n",
    "* `Non-trainable parameters` - these parameters aren't updated during training."
   ]
  },
  {
   "cell_type": "code",
   "execution_count": 122,
   "metadata": {},
   "outputs": [
    {
     "data": {
      "text/plain": [
       "<keras.callbacks.History at 0x2b743bbdc60>"
      ]
     },
     "execution_count": 122,
     "metadata": {},
     "output_type": "execute_result"
    }
   ],
   "source": [
    "# Fit the model to the training data\n",
    "model.fit(x_train, y_train, epochs=100, verbose=0) # verbose controls how much gets output"
   ]
  },
  {
   "cell_type": "code",
   "execution_count": 123,
   "metadata": {},
   "outputs": [
    {
     "name": "stdout",
     "output_type": "stream",
     "text": [
      "Model: \"sequential_15\"\n",
      "_________________________________________________________________\n",
      " Layer (type)                Output Shape              Param #   \n",
      "=================================================================\n",
      " dense_15 (Dense)            (None, 1)                 2         \n",
      "                                                                 \n",
      "=================================================================\n",
      "Total params: 2\n",
      "Trainable params: 2\n",
      "Non-trainable params: 0\n",
      "_________________________________________________________________\n"
     ]
    }
   ],
   "source": [
    "model.summary()"
   ]
  },
  {
   "cell_type": "code",
   "execution_count": 125,
   "metadata": {},
   "outputs": [
    {
     "name": "stdout",
     "output_type": "stream",
     "text": [
      "You must install pydot (`pip install pydot`) and install graphviz (see instructions at https://graphviz.gitlab.io/download/) for plot_model to work.\n"
     ]
    }
   ],
   "source": [
    "from tensorflow.keras.utils import plot_model\n",
    "plot_model(model, show_shapes= True)"
   ]
  },
  {
   "cell_type": "code",
   "execution_count": null,
   "metadata": {},
   "outputs": [],
   "source": []
  }
 ],
 "metadata": {
  "kernelspec": {
   "display_name": "Python 3",
   "language": "python",
   "name": "python3"
  },
  "language_info": {
   "codemirror_mode": {
    "name": "ipython",
    "version": 3
   },
   "file_extension": ".py",
   "mimetype": "text/x-python",
   "name": "python",
   "nbconvert_exporter": "python",
   "pygments_lexer": "ipython3",
   "version": "3.10.14"
  }
 },
 "nbformat": 4,
 "nbformat_minor": 2
}
